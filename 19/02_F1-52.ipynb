{
  "nbformat": 4,
  "nbformat_minor": 0,
  "metadata": {
    "colab": {
      "provenance": [],
      "authorship_tag": "ABX9TyNQ8XvjxeGtxr8zrDxzvQ4r",
      "include_colab_link": true
    },
    "kernelspec": {
      "name": "python3",
      "display_name": "Python 3"
    },
    "language_info": {
      "name": "python"
    }
  },
  "cells": [
    {
      "cell_type": "markdown",
      "metadata": {
        "id": "view-in-github",
        "colab_type": "text"
      },
      "source": [
        "<a href=\"https://colab.research.google.com/github/RohithOfRivia/SMILES-Toxicity-Prediction/blob/main/19/02_F1-52.ipynb\" target=\"_parent\"><img src=\"https://colab.research.google.com/assets/colab-badge.svg\" alt=\"Open In Colab\"/></a>"
      ]
    },
    {
      "cell_type": "code",
      "execution_count": 132,
      "metadata": {
        "colab": {
          "base_uri": "https://localhost:8080/"
        },
        "id": "ryAim0JRToN2",
        "outputId": "731e1f71-ff23-4069-f38d-0cd0a6ecb1e1"
      },
      "outputs": [
        {
          "output_type": "stream",
          "name": "stdout",
          "text": [
            "Looking in indexes: https://pypi.org/simple, https://us-python.pkg.dev/colab-wheels/public/simple/\n",
            "Requirement already satisfied: rdkit in /usr/local/lib/python3.8/dist-packages (2022.9.4)\n",
            "Requirement already satisfied: Pillow in /usr/local/lib/python3.8/dist-packages (from rdkit) (7.1.2)\n",
            "Requirement already satisfied: numpy in /usr/local/lib/python3.8/dist-packages (from rdkit) (1.21.6)\n"
          ]
        }
      ],
      "source": [
        "!pip install rdkit\n",
        "import warnings\n",
        "warnings.filterwarnings('ignore')\n",
        "\n",
        "import pandas as pd\n",
        "import numpy as np\n",
        "import matplotlib.pyplot as plt\n",
        "import seaborn as sns\n",
        "\n",
        "from rdkit import Chem\n",
        "from rdkit.Chem import AllChem\n",
        "from rdkit.Chem import Descriptors\n",
        "from rdkit.ML.Descriptors import MoleculeDescriptors\n",
        "\n",
        "from sklearn.linear_model import LogisticRegression\n",
        "from sklearn.neighbors import KNeighborsClassifier\n",
        "from sklearn.ensemble import (GradientBoostingClassifier, \n",
        "                              HistGradientBoostingClassifier)\n",
        "from sklearn.ensemble import RandomForestClassifier\n",
        "from sklearn.model_selection import train_test_split, RepeatedStratifiedKFold, cross_val_score\n",
        "from sklearn.metrics import accuracy_score\n",
        "from sklearn.preprocessing import StandardScaler\n",
        "from sklearn.preprocessing import MinMaxScaler\n",
        "from sklearn.preprocessing import LabelEncoder\n",
        "\n",
        "from sklearn.decomposition import PCA\n",
        "from sklearn.feature_selection import VarianceThreshold\n",
        "from sklearn.utils import resample\n",
        "\n",
        "\n",
        "from sklearn.metrics import f1_score, recall_score\n",
        "\n",
        "from sklearn.base import BaseEstimator, TransformerMixin\n",
        "from sklearn.pipeline import Pipeline\n",
        "\n",
        "from sklearn.model_selection import GridSearchCV, RandomizedSearchCV\n",
        "from sklearn.model_selection import StratifiedKFold\n",
        "\n",
        "from xgboost import XGBClassifier\n",
        "import time\n",
        "import os"
      ]
    },
    {
      "cell_type": "code",
      "source": [
        "train_data_url = \"https://raw.githubusercontent.com/RohithOfRivia/SMILES-Toxicity-Prediction/main/Data/train_II.csv\"\n",
        "test_data_url = \"https://raw.githubusercontent.com/RohithOfRivia/SMILES-Toxicity-Prediction/main/Data/test_II.csv\"\n",
        "\n",
        "df = pd.read_csv(train_data_url)"
      ],
      "metadata": {
        "id": "dHI-241UUPcl"
      },
      "execution_count": 92,
      "outputs": []
    },
    {
      "cell_type": "code",
      "source": [
        "#transforming each compound into their canonical SMILES format. Optional.\n",
        "def canonicalSmiles(smile):\n",
        "    try:\n",
        "        return Chem.MolToSmiles(Chem.MolFromSmiles(smile))\n",
        "    except:\n",
        "        return(Chem.MolToSmiles(Chem.MolFromSmiles(\"[Na+].[Na+].F[Si--](F)(F)(F)(F)F\")))"
      ],
      "metadata": {
        "id": "mF1xLYWXUQPa"
      },
      "execution_count": 32,
      "outputs": []
    },
    {
      "cell_type": "code",
      "source": [
        "#Read data and split up the given features\n",
        "class FileReadTransform(BaseEstimator, TransformerMixin):\n",
        "    \n",
        "    def fit(self, X, y=None):\n",
        "        return self\n",
        "    \n",
        "    #training and test data are slightly different, hence passing optional test param\n",
        "    def transform(self, X, test=False):\n",
        "        \n",
        "        try:\n",
        "          # if test == False:\n",
        "            X['SMILES'] = X['Id'].apply(lambda x: x.split(';')[0])\n",
        "            X['assay'] = X['Id'].apply(lambda x: x.split(';')[1])\n",
        "        \n",
        "        except KeyError:\n",
        "            X['SMILES'] = X['x'].apply(lambda x: x.split(';')[0])\n",
        "            X['assay'] = X['x'].apply(lambda x: x.split(';')[1])\n",
        "          \n",
        "        print(\"FileReadTransform done\")\n",
        "        \n",
        "        #correct smiles for this compound found through https://www.molport.com/shop/index\n",
        "        #X[\"SMILES\"] = X[\"SMILES\"].replace({\"F[Si-2](F)(F)(F)(F)F.[Na+].[Na+]\":\"[Na+].[Na+].F[Si--](F)(F)(F)(F)F\"})\n",
        "        \n",
        "        #Deleting invalid compound from the data\n",
        "        X = X.loc[X.SMILES != \"F[Si-2](F)(F)(F)(F)F.[Na+].[Na+]\"]\n",
        "        return X\n",
        "    \n",
        "    \n",
        "class CanonicalGenerator(BaseEstimator, TransformerMixin):\n",
        "    \n",
        "    def fit(self, X, y=None):\n",
        "        return self\n",
        "    \n",
        "    def transform(self, X):\n",
        "        X['SMILES'] = X['SMILES'].apply(canonicalSmiles)\n",
        "        print(\"CanonicalGenerator done\")\n",
        "        return X\n",
        "\n",
        "    \n",
        "class FingerprintGenerator(BaseEstimator, TransformerMixin):\n",
        "    \n",
        "    def fit(self, X, y=None):\n",
        "        return self\n",
        "    \n",
        "    def transform(self, X):\n",
        "          #tracks each unique compound and its fingerprints\n",
        "          tracker = []\n",
        "          fps = []\n",
        "          assays = []\n",
        "          unique = len(X['SMILES'].unique())\n",
        "          counter = 0\n",
        "\n",
        "          for index, columns in X[[\"SMILES\", \"assay\"]].iterrows():\n",
        "\n",
        "              #skip if already in tracker\n",
        "              if columns[0] in tracker:\n",
        "                  continue\n",
        "\n",
        "              #append each unique compound and thier respective fingerprints\n",
        "              else:\n",
        "                  tracker.append(columns[0])\n",
        "                  assays.append(columns[1])\n",
        "\n",
        "                  mol = Chem.MolFromSmiles(columns[0])\n",
        "                  fp = AllChem.GetMorganFingerprintAsBitVect(mol, 2, nBits=1024)\n",
        "                  fps.append(fp.ToList())\n",
        "\n",
        "                  counter += 1\n",
        "\n",
        "                  # print(f\"compound {counter}/{unique}...\n",
        "\n",
        "          #Combining all compounds, assays and fingerprints into one dataframe \n",
        "          cols = a = [\"x\" + str(i) for i in range (1, 1025)]\n",
        "          smiles_df = pd.DataFrame(columns=['SMILES'], data=tracker)\n",
        "          fingerprints = pd.DataFrame(columns=cols, data=fps)\n",
        "\n",
        "          df = pd.concat([smiles_df, fingerprints], axis=1)\n",
        "\n",
        "          print(\"FingerprintGenerator done\")\n",
        "          return pd.merge(X, df, on='SMILES') \n",
        "\n",
        "\n",
        "#Feature reduction with variance threshold \n",
        "class VarianceThresh(BaseEstimator, TransformerMixin):\n",
        "\n",
        "    def fit(self, X, y=None):\n",
        "        return self\n",
        "    \n",
        "    def transform(self, X, thresh=.8):\n",
        "      \n",
        "      #Looks to columns to determine whether X is training or testing data \n",
        "      cols = X.columns\n",
        "      if 'x' in cols:\n",
        "        temp_df = X.drop(columns=[\"x\", \"assay\", \"SMILES\"])\n",
        "        cols = [\"x\", \"assay\", \"SMILES\"]\n",
        "      else:\n",
        "        temp_df = X.drop(columns=[\"Id\", \"Expected\",\"assay\", \"SMILES\"])\n",
        "        cols = [\"Id\", \"Expected\",\"assay\", \"SMILES\"]\n",
        "\n",
        "      #Selecting features based on the variance threshold\n",
        "      selector = VarianceThreshold(threshold=(thresh * (1 - thresh))) \n",
        "      selector.fit(temp_df)\n",
        "\n",
        "      #This line transforms the data while keeping the column names \n",
        "      temp_df = temp_df.loc[:, selector.get_support()]\n",
        "\n",
        "      #Attaching the ids, assays, smiles etc. that is still required for model\n",
        "      return pd.concat([X[cols], temp_df], axis=1) , selection\n",
        "\n",
        "      "
      ],
      "metadata": {
        "id": "kqnkzT-bUQn6"
      },
      "execution_count": 122,
      "outputs": []
    },
    {
      "cell_type": "markdown",
      "source": [
        "## Generating descriptors"
      ],
      "metadata": {
        "id": "bArk50ghju_F"
      }
    },
    {
      "cell_type": "code",
      "source": [
        "class DescriptorGenerator(BaseEstimator, TransformerMixin):\n",
        "\n",
        "  def fit(self, X, y=None):\n",
        "        return self\n",
        "    \n",
        "  def transform(self, X):\n",
        "    #Initializing descriptor calculator\n",
        "    calc = MoleculeDescriptors.MolecularDescriptorCalculator([x[0] for x in Descriptors._descList])\n",
        "    desc_names = calc.GetDescriptorNames()\n",
        "\n",
        "    #Tracking each unique compound and generating descriptors \n",
        "    tracker = []\n",
        "    descriptors = []\n",
        "    for compound in X['SMILES']:\n",
        "\n",
        "      if compound in tracker:\n",
        "        continue\n",
        "\n",
        "      else:\n",
        "        tracker.append(compound)\n",
        "\n",
        "        mol = Chem.MolFromSmiles(compound)\n",
        "        current_descriptors = calc.CalcDescriptors(mol)\n",
        "        descriptors.append(current_descriptors)\n",
        "\n",
        "    # Combining X, SMILES, and generated descriptors \n",
        "    df = pd.DataFrame(descriptors,columns=desc_names)\n",
        "    temp_df = pd.DataFrame(tracker, columns=[\"SMILES\"])\n",
        "    df = pd.concat([df, temp_df], axis=0)\n",
        "\n",
        "    print(\"DescriptorGenerator done\")\n",
        "    return pd.merge(X, df, on='SMILES')"
      ],
      "metadata": {
        "id": "hEDljdsOhxja"
      },
      "execution_count": 34,
      "outputs": []
    },
    {
      "cell_type": "code",
      "source": [
        "feature_generation_pipeline = Pipeline(steps=[\n",
        "    ('read', FileReadTransform()),\n",
        "     ('canon', CanonicalGenerator()),\n",
        "     ('fpr', FingerprintGenerator()),\n",
        "     ('desc', DescriptorGenerator())\n",
        "     ])\n",
        "\n",
        "feature_selector_pipeline = Pipeline(steps=[\n",
        "    ('vtr', VarianceThresh()),\n",
        "     ])\n",
        "df_processed = feature_generation_pipeline.fit_transform(df)\n",
        "df_processed, selector = feature_selector_pipeline.fit_transform(df_processed)"
      ],
      "metadata": {
        "colab": {
          "base_uri": "https://localhost:8080/"
        },
        "id": "BSzN3tVUjrd3",
        "outputId": "72766954-9b60-49c0-ea30-6d4164979b9a"
      },
      "execution_count": 125,
      "outputs": [
        {
          "output_type": "stream",
          "name": "stdout",
          "text": [
            "FileReadTransform done\n",
            "CanonicalGenerator done\n",
            "FingerprintGenerator done\n",
            "DescriptorGenerator done\n"
          ]
        }
      ]
    },
    {
      "cell_type": "code",
      "source": [
        "df_processed"
      ],
      "metadata": {
        "colab": {
          "base_uri": "https://localhost:8080/",
          "height": 591
        },
        "id": "_Uj1djlruqXq",
        "outputId": "58119d02-5c36-46de-f1ab-a8d8b72c56dd"
      },
      "execution_count": 126,
      "outputs": [
        {
          "output_type": "execute_result",
          "data": {
            "text/plain": [
              "                                                    Id  Expected assay  \\\n",
              "0      C1=CC(=CC=C1C(C2=CC=C(C=C2)O)C(Cl)(Cl)Cl)O;1644         2  1644   \n",
              "1      C1=CC(=CC=C1C(C2=CC=C(C=C2)O)C(Cl)(Cl)Cl)O;1630         2  1630   \n",
              "2        C1=CC(=CC=C1C(C2=CC=C(C=C2)O)C(Cl)(Cl)Cl)O;29         2    29   \n",
              "3      C1=CC(=CC=C1C(C2=CC=C(C=C2)O)C(Cl)(Cl)Cl)O;1618         2  1618   \n",
              "4      C1=CC(=CC=C1C(C2=CC=C(C=C2)O)C(Cl)(Cl)Cl)O;1638         2  1638   \n",
              "...                                                ...       ...   ...   \n",
              "75372                        C1=CC=C(C=C1)NC(=S)N;1852         1  1852   \n",
              "75373                                CN1CN(CN(C1)C)C;2         2     2   \n",
              "75374                             CCCCC1CCC(=O)O1;1852         1  1852   \n",
              "75375                          CCOC(=O)CCC1=CC=CC=C1;2         2     2   \n",
              "75376           C1=C(C=C(C(=C1N)O)Cl)[N+](=O)[O-];1852         1  1852   \n",
              "\n",
              "                                     SMILES  x2  x34  x65  x81  x115  x129  \\\n",
              "0      Oc1ccc(C(c2ccc(O)cc2)C(Cl)(Cl)Cl)cc1   1    0    0    0     1     0   \n",
              "1      Oc1ccc(C(c2ccc(O)cc2)C(Cl)(Cl)Cl)cc1   1    0    0    0     1     0   \n",
              "2      Oc1ccc(C(c2ccc(O)cc2)C(Cl)(Cl)Cl)cc1   1    0    0    0     1     0   \n",
              "3      Oc1ccc(C(c2ccc(O)cc2)C(Cl)(Cl)Cl)cc1   1    0    0    0     1     0   \n",
              "4      Oc1ccc(C(c2ccc(O)cc2)C(Cl)(Cl)Cl)cc1   1    0    0    0     1     0   \n",
              "...                                     ...  ..  ...  ...  ...   ...   ...   \n",
              "75372                       NC(=S)Nc1ccccc1   0    0    1    0     0     1   \n",
              "75373                       CN1CN(C)CN(C)C1   0    1    0    0     0     0   \n",
              "75374                       CCCCC1CCC(=O)O1   0    1    0    1     0     0   \n",
              "75375                    CCOC(=O)CCc1ccccc1   0    1    1    1     0     0   \n",
              "75376          Nc1cc([N+](=O)[O-])cc(Cl)c1O   0    0    0    0     0     0   \n",
              "\n",
              "       ...  fr_benzene  fr_bicyclic  fr_ester  fr_ether  fr_halogen  \\\n",
              "0      ...           2            0         0         0           3   \n",
              "1      ...           2            0         0         0           3   \n",
              "2      ...           2            0         0         0           3   \n",
              "3      ...           2            0         0         0           3   \n",
              "4      ...           2            0         0         0           3   \n",
              "...    ...         ...          ...       ...       ...         ...   \n",
              "75372  ...           1            0         0         0           0   \n",
              "75373  ...           0            0         0         0           0   \n",
              "75374  ...           0            0         1         1           0   \n",
              "75375  ...           1            0         1         1           0   \n",
              "75376  ...           1            0         0         0           1   \n",
              "\n",
              "       fr_methoxy  fr_para_hydroxylation  fr_phenol  fr_phenol_noOrthoHbond  \\\n",
              "0               0                      0          2                       2   \n",
              "1               0                      0          2                       2   \n",
              "2               0                      0          2                       2   \n",
              "3               0                      0          2                       2   \n",
              "4               0                      0          2                       2   \n",
              "...           ...                    ...        ...                     ...   \n",
              "75372           0                      1          0                       0   \n",
              "75373           0                      0          0                       0   \n",
              "75374           0                      0          0                       0   \n",
              "75375           0                      0          0                       0   \n",
              "75376           0                      0          1                       1   \n",
              "\n",
              "       fr_unbrch_alkane  \n",
              "0                     0  \n",
              "1                     0  \n",
              "2                     0  \n",
              "3                     0  \n",
              "4                     0  \n",
              "...                 ...  \n",
              "75372                 0  \n",
              "75373                 0  \n",
              "75374                 0  \n",
              "75375                 0  \n",
              "75376                 0  \n",
              "\n",
              "[75377 rows x 158 columns]"
            ],
            "text/html": [
              "\n",
              "  <div id=\"df-ad650668-ce45-40a4-b784-4f3244a53678\">\n",
              "    <div class=\"colab-df-container\">\n",
              "      <div>\n",
              "<style scoped>\n",
              "    .dataframe tbody tr th:only-of-type {\n",
              "        vertical-align: middle;\n",
              "    }\n",
              "\n",
              "    .dataframe tbody tr th {\n",
              "        vertical-align: top;\n",
              "    }\n",
              "\n",
              "    .dataframe thead th {\n",
              "        text-align: right;\n",
              "    }\n",
              "</style>\n",
              "<table border=\"1\" class=\"dataframe\">\n",
              "  <thead>\n",
              "    <tr style=\"text-align: right;\">\n",
              "      <th></th>\n",
              "      <th>Id</th>\n",
              "      <th>Expected</th>\n",
              "      <th>assay</th>\n",
              "      <th>SMILES</th>\n",
              "      <th>x2</th>\n",
              "      <th>x34</th>\n",
              "      <th>x65</th>\n",
              "      <th>x81</th>\n",
              "      <th>x115</th>\n",
              "      <th>x129</th>\n",
              "      <th>...</th>\n",
              "      <th>fr_benzene</th>\n",
              "      <th>fr_bicyclic</th>\n",
              "      <th>fr_ester</th>\n",
              "      <th>fr_ether</th>\n",
              "      <th>fr_halogen</th>\n",
              "      <th>fr_methoxy</th>\n",
              "      <th>fr_para_hydroxylation</th>\n",
              "      <th>fr_phenol</th>\n",
              "      <th>fr_phenol_noOrthoHbond</th>\n",
              "      <th>fr_unbrch_alkane</th>\n",
              "    </tr>\n",
              "  </thead>\n",
              "  <tbody>\n",
              "    <tr>\n",
              "      <th>0</th>\n",
              "      <td>C1=CC(=CC=C1C(C2=CC=C(C=C2)O)C(Cl)(Cl)Cl)O;1644</td>\n",
              "      <td>2</td>\n",
              "      <td>1644</td>\n",
              "      <td>Oc1ccc(C(c2ccc(O)cc2)C(Cl)(Cl)Cl)cc1</td>\n",
              "      <td>1</td>\n",
              "      <td>0</td>\n",
              "      <td>0</td>\n",
              "      <td>0</td>\n",
              "      <td>1</td>\n",
              "      <td>0</td>\n",
              "      <td>...</td>\n",
              "      <td>2</td>\n",
              "      <td>0</td>\n",
              "      <td>0</td>\n",
              "      <td>0</td>\n",
              "      <td>3</td>\n",
              "      <td>0</td>\n",
              "      <td>0</td>\n",
              "      <td>2</td>\n",
              "      <td>2</td>\n",
              "      <td>0</td>\n",
              "    </tr>\n",
              "    <tr>\n",
              "      <th>1</th>\n",
              "      <td>C1=CC(=CC=C1C(C2=CC=C(C=C2)O)C(Cl)(Cl)Cl)O;1630</td>\n",
              "      <td>2</td>\n",
              "      <td>1630</td>\n",
              "      <td>Oc1ccc(C(c2ccc(O)cc2)C(Cl)(Cl)Cl)cc1</td>\n",
              "      <td>1</td>\n",
              "      <td>0</td>\n",
              "      <td>0</td>\n",
              "      <td>0</td>\n",
              "      <td>1</td>\n",
              "      <td>0</td>\n",
              "      <td>...</td>\n",
              "      <td>2</td>\n",
              "      <td>0</td>\n",
              "      <td>0</td>\n",
              "      <td>0</td>\n",
              "      <td>3</td>\n",
              "      <td>0</td>\n",
              "      <td>0</td>\n",
              "      <td>2</td>\n",
              "      <td>2</td>\n",
              "      <td>0</td>\n",
              "    </tr>\n",
              "    <tr>\n",
              "      <th>2</th>\n",
              "      <td>C1=CC(=CC=C1C(C2=CC=C(C=C2)O)C(Cl)(Cl)Cl)O;29</td>\n",
              "      <td>2</td>\n",
              "      <td>29</td>\n",
              "      <td>Oc1ccc(C(c2ccc(O)cc2)C(Cl)(Cl)Cl)cc1</td>\n",
              "      <td>1</td>\n",
              "      <td>0</td>\n",
              "      <td>0</td>\n",
              "      <td>0</td>\n",
              "      <td>1</td>\n",
              "      <td>0</td>\n",
              "      <td>...</td>\n",
              "      <td>2</td>\n",
              "      <td>0</td>\n",
              "      <td>0</td>\n",
              "      <td>0</td>\n",
              "      <td>3</td>\n",
              "      <td>0</td>\n",
              "      <td>0</td>\n",
              "      <td>2</td>\n",
              "      <td>2</td>\n",
              "      <td>0</td>\n",
              "    </tr>\n",
              "    <tr>\n",
              "      <th>3</th>\n",
              "      <td>C1=CC(=CC=C1C(C2=CC=C(C=C2)O)C(Cl)(Cl)Cl)O;1618</td>\n",
              "      <td>2</td>\n",
              "      <td>1618</td>\n",
              "      <td>Oc1ccc(C(c2ccc(O)cc2)C(Cl)(Cl)Cl)cc1</td>\n",
              "      <td>1</td>\n",
              "      <td>0</td>\n",
              "      <td>0</td>\n",
              "      <td>0</td>\n",
              "      <td>1</td>\n",
              "      <td>0</td>\n",
              "      <td>...</td>\n",
              "      <td>2</td>\n",
              "      <td>0</td>\n",
              "      <td>0</td>\n",
              "      <td>0</td>\n",
              "      <td>3</td>\n",
              "      <td>0</td>\n",
              "      <td>0</td>\n",
              "      <td>2</td>\n",
              "      <td>2</td>\n",
              "      <td>0</td>\n",
              "    </tr>\n",
              "    <tr>\n",
              "      <th>4</th>\n",
              "      <td>C1=CC(=CC=C1C(C2=CC=C(C=C2)O)C(Cl)(Cl)Cl)O;1638</td>\n",
              "      <td>2</td>\n",
              "      <td>1638</td>\n",
              "      <td>Oc1ccc(C(c2ccc(O)cc2)C(Cl)(Cl)Cl)cc1</td>\n",
              "      <td>1</td>\n",
              "      <td>0</td>\n",
              "      <td>0</td>\n",
              "      <td>0</td>\n",
              "      <td>1</td>\n",
              "      <td>0</td>\n",
              "      <td>...</td>\n",
              "      <td>2</td>\n",
              "      <td>0</td>\n",
              "      <td>0</td>\n",
              "      <td>0</td>\n",
              "      <td>3</td>\n",
              "      <td>0</td>\n",
              "      <td>0</td>\n",
              "      <td>2</td>\n",
              "      <td>2</td>\n",
              "      <td>0</td>\n",
              "    </tr>\n",
              "    <tr>\n",
              "      <th>...</th>\n",
              "      <td>...</td>\n",
              "      <td>...</td>\n",
              "      <td>...</td>\n",
              "      <td>...</td>\n",
              "      <td>...</td>\n",
              "      <td>...</td>\n",
              "      <td>...</td>\n",
              "      <td>...</td>\n",
              "      <td>...</td>\n",
              "      <td>...</td>\n",
              "      <td>...</td>\n",
              "      <td>...</td>\n",
              "      <td>...</td>\n",
              "      <td>...</td>\n",
              "      <td>...</td>\n",
              "      <td>...</td>\n",
              "      <td>...</td>\n",
              "      <td>...</td>\n",
              "      <td>...</td>\n",
              "      <td>...</td>\n",
              "      <td>...</td>\n",
              "    </tr>\n",
              "    <tr>\n",
              "      <th>75372</th>\n",
              "      <td>C1=CC=C(C=C1)NC(=S)N;1852</td>\n",
              "      <td>1</td>\n",
              "      <td>1852</td>\n",
              "      <td>NC(=S)Nc1ccccc1</td>\n",
              "      <td>0</td>\n",
              "      <td>0</td>\n",
              "      <td>1</td>\n",
              "      <td>0</td>\n",
              "      <td>0</td>\n",
              "      <td>1</td>\n",
              "      <td>...</td>\n",
              "      <td>1</td>\n",
              "      <td>0</td>\n",
              "      <td>0</td>\n",
              "      <td>0</td>\n",
              "      <td>0</td>\n",
              "      <td>0</td>\n",
              "      <td>1</td>\n",
              "      <td>0</td>\n",
              "      <td>0</td>\n",
              "      <td>0</td>\n",
              "    </tr>\n",
              "    <tr>\n",
              "      <th>75373</th>\n",
              "      <td>CN1CN(CN(C1)C)C;2</td>\n",
              "      <td>2</td>\n",
              "      <td>2</td>\n",
              "      <td>CN1CN(C)CN(C)C1</td>\n",
              "      <td>0</td>\n",
              "      <td>1</td>\n",
              "      <td>0</td>\n",
              "      <td>0</td>\n",
              "      <td>0</td>\n",
              "      <td>0</td>\n",
              "      <td>...</td>\n",
              "      <td>0</td>\n",
              "      <td>0</td>\n",
              "      <td>0</td>\n",
              "      <td>0</td>\n",
              "      <td>0</td>\n",
              "      <td>0</td>\n",
              "      <td>0</td>\n",
              "      <td>0</td>\n",
              "      <td>0</td>\n",
              "      <td>0</td>\n",
              "    </tr>\n",
              "    <tr>\n",
              "      <th>75374</th>\n",
              "      <td>CCCCC1CCC(=O)O1;1852</td>\n",
              "      <td>1</td>\n",
              "      <td>1852</td>\n",
              "      <td>CCCCC1CCC(=O)O1</td>\n",
              "      <td>0</td>\n",
              "      <td>1</td>\n",
              "      <td>0</td>\n",
              "      <td>1</td>\n",
              "      <td>0</td>\n",
              "      <td>0</td>\n",
              "      <td>...</td>\n",
              "      <td>0</td>\n",
              "      <td>0</td>\n",
              "      <td>1</td>\n",
              "      <td>1</td>\n",
              "      <td>0</td>\n",
              "      <td>0</td>\n",
              "      <td>0</td>\n",
              "      <td>0</td>\n",
              "      <td>0</td>\n",
              "      <td>0</td>\n",
              "    </tr>\n",
              "    <tr>\n",
              "      <th>75375</th>\n",
              "      <td>CCOC(=O)CCC1=CC=CC=C1;2</td>\n",
              "      <td>2</td>\n",
              "      <td>2</td>\n",
              "      <td>CCOC(=O)CCc1ccccc1</td>\n",
              "      <td>0</td>\n",
              "      <td>1</td>\n",
              "      <td>1</td>\n",
              "      <td>1</td>\n",
              "      <td>0</td>\n",
              "      <td>0</td>\n",
              "      <td>...</td>\n",
              "      <td>1</td>\n",
              "      <td>0</td>\n",
              "      <td>1</td>\n",
              "      <td>1</td>\n",
              "      <td>0</td>\n",
              "      <td>0</td>\n",
              "      <td>0</td>\n",
              "      <td>0</td>\n",
              "      <td>0</td>\n",
              "      <td>0</td>\n",
              "    </tr>\n",
              "    <tr>\n",
              "      <th>75376</th>\n",
              "      <td>C1=C(C=C(C(=C1N)O)Cl)[N+](=O)[O-];1852</td>\n",
              "      <td>1</td>\n",
              "      <td>1852</td>\n",
              "      <td>Nc1cc([N+](=O)[O-])cc(Cl)c1O</td>\n",
              "      <td>0</td>\n",
              "      <td>0</td>\n",
              "      <td>0</td>\n",
              "      <td>0</td>\n",
              "      <td>0</td>\n",
              "      <td>0</td>\n",
              "      <td>...</td>\n",
              "      <td>1</td>\n",
              "      <td>0</td>\n",
              "      <td>0</td>\n",
              "      <td>0</td>\n",
              "      <td>1</td>\n",
              "      <td>0</td>\n",
              "      <td>0</td>\n",
              "      <td>1</td>\n",
              "      <td>1</td>\n",
              "      <td>0</td>\n",
              "    </tr>\n",
              "  </tbody>\n",
              "</table>\n",
              "<p>75377 rows × 158 columns</p>\n",
              "</div>\n",
              "      <button class=\"colab-df-convert\" onclick=\"convertToInteractive('df-ad650668-ce45-40a4-b784-4f3244a53678')\"\n",
              "              title=\"Convert this dataframe to an interactive table.\"\n",
              "              style=\"display:none;\">\n",
              "        \n",
              "  <svg xmlns=\"http://www.w3.org/2000/svg\" height=\"24px\"viewBox=\"0 0 24 24\"\n",
              "       width=\"24px\">\n",
              "    <path d=\"M0 0h24v24H0V0z\" fill=\"none\"/>\n",
              "    <path d=\"M18.56 5.44l.94 2.06.94-2.06 2.06-.94-2.06-.94-.94-2.06-.94 2.06-2.06.94zm-11 1L8.5 8.5l.94-2.06 2.06-.94-2.06-.94L8.5 2.5l-.94 2.06-2.06.94zm10 10l.94 2.06.94-2.06 2.06-.94-2.06-.94-.94-2.06-.94 2.06-2.06.94z\"/><path d=\"M17.41 7.96l-1.37-1.37c-.4-.4-.92-.59-1.43-.59-.52 0-1.04.2-1.43.59L10.3 9.45l-7.72 7.72c-.78.78-.78 2.05 0 2.83L4 21.41c.39.39.9.59 1.41.59.51 0 1.02-.2 1.41-.59l7.78-7.78 2.81-2.81c.8-.78.8-2.07 0-2.86zM5.41 20L4 18.59l7.72-7.72 1.47 1.35L5.41 20z\"/>\n",
              "  </svg>\n",
              "      </button>\n",
              "      \n",
              "  <style>\n",
              "    .colab-df-container {\n",
              "      display:flex;\n",
              "      flex-wrap:wrap;\n",
              "      gap: 12px;\n",
              "    }\n",
              "\n",
              "    .colab-df-convert {\n",
              "      background-color: #E8F0FE;\n",
              "      border: none;\n",
              "      border-radius: 50%;\n",
              "      cursor: pointer;\n",
              "      display: none;\n",
              "      fill: #1967D2;\n",
              "      height: 32px;\n",
              "      padding: 0 0 0 0;\n",
              "      width: 32px;\n",
              "    }\n",
              "\n",
              "    .colab-df-convert:hover {\n",
              "      background-color: #E2EBFA;\n",
              "      box-shadow: 0px 1px 2px rgba(60, 64, 67, 0.3), 0px 1px 3px 1px rgba(60, 64, 67, 0.15);\n",
              "      fill: #174EA6;\n",
              "    }\n",
              "\n",
              "    [theme=dark] .colab-df-convert {\n",
              "      background-color: #3B4455;\n",
              "      fill: #D2E3FC;\n",
              "    }\n",
              "\n",
              "    [theme=dark] .colab-df-convert:hover {\n",
              "      background-color: #434B5C;\n",
              "      box-shadow: 0px 1px 3px 1px rgba(0, 0, 0, 0.15);\n",
              "      filter: drop-shadow(0px 1px 2px rgba(0, 0, 0, 0.3));\n",
              "      fill: #FFFFFF;\n",
              "    }\n",
              "  </style>\n",
              "\n",
              "      <script>\n",
              "        const buttonEl =\n",
              "          document.querySelector('#df-ad650668-ce45-40a4-b784-4f3244a53678 button.colab-df-convert');\n",
              "        buttonEl.style.display =\n",
              "          google.colab.kernel.accessAllowed ? 'block' : 'none';\n",
              "\n",
              "        async function convertToInteractive(key) {\n",
              "          const element = document.querySelector('#df-ad650668-ce45-40a4-b784-4f3244a53678');\n",
              "          const dataTable =\n",
              "            await google.colab.kernel.invokeFunction('convertToInteractive',\n",
              "                                                     [key], {});\n",
              "          if (!dataTable) return;\n",
              "\n",
              "          const docLinkHtml = 'Like what you see? Visit the ' +\n",
              "            '<a target=\"_blank\" href=https://colab.research.google.com/notebooks/data_table.ipynb>data table notebook</a>'\n",
              "            + ' to learn more about interactive tables.';\n",
              "          element.innerHTML = '';\n",
              "          dataTable['output_type'] = 'display_data';\n",
              "          await google.colab.output.renderOutput(dataTable, element);\n",
              "          const docLink = document.createElement('div');\n",
              "          docLink.innerHTML = docLinkHtml;\n",
              "          element.appendChild(docLink);\n",
              "        }\n",
              "      </script>\n",
              "    </div>\n",
              "  </div>\n",
              "  "
            ]
          },
          "metadata": {},
          "execution_count": 126
        }
      ]
    },
    {
      "cell_type": "code",
      "source": [
        "# model = HistGradientBoostingClassifier()\n",
        "# # define the evaluation procedure\n",
        "# cv = RepeatedStratifiedKFold(n_splits=10, n_repeats=3, random_state=1)\n",
        "# # evaluate the model and collect the scores\n",
        "# X = df_processed.drop(columns=['Id', 'Expected', \"SMILES\"])\n",
        "# n_scores = cross_val_score(model, X, df_processed['Expected'], scoring=\"f1\", cv=cv, n_jobs=-1)\n",
        "# # report performance\n",
        "# print('F1: %.3f (%.3f)' % (np.mean(n_scores), np.std(n_scores)))"
      ],
      "metadata": {
        "colab": {
          "base_uri": "https://localhost:8080/"
        },
        "id": "Frzf7Yx0hyBz",
        "outputId": "adf7f3ac-e8fd-4e0b-a6bf-de48c373fee8"
      },
      "execution_count": 143,
      "outputs": [
        {
          "output_type": "stream",
          "name": "stdout",
          "text": [
            "F1: 0.521 (0.014)\n"
          ]
        }
      ]
    },
    {
      "cell_type": "code",
      "source": [],
      "metadata": {
        "id": "NaKEcoQrhyGO"
      },
      "execution_count": null,
      "outputs": []
    },
    {
      "cell_type": "code",
      "source": [],
      "metadata": {
        "id": "ef8GdnO_hyKm"
      },
      "execution_count": null,
      "outputs": []
    },
    {
      "cell_type": "code",
      "source": [],
      "metadata": {
        "id": "Aw4NDKjyhyPB"
      },
      "execution_count": null,
      "outputs": []
    },
    {
      "cell_type": "code",
      "source": [],
      "metadata": {
        "id": "L4wq6PYohyS7"
      },
      "execution_count": null,
      "outputs": []
    },
    {
      "cell_type": "code",
      "source": [],
      "metadata": {
        "id": "u7KTba3whyWm"
      },
      "execution_count": null,
      "outputs": []
    },
    {
      "cell_type": "code",
      "source": [],
      "metadata": {
        "id": "ofieQkkGhyaw"
      },
      "execution_count": null,
      "outputs": []
    },
    {
      "cell_type": "code",
      "source": [],
      "metadata": {
        "id": "5KyEbNVXhyev"
      },
      "execution_count": null,
      "outputs": []
    },
    {
      "cell_type": "code",
      "source": [],
      "metadata": {
        "id": "kAXlpJrGhyi3"
      },
      "execution_count": null,
      "outputs": []
    },
    {
      "cell_type": "code",
      "source": [],
      "metadata": {
        "id": "BRGrTSJJhyvn"
      },
      "execution_count": null,
      "outputs": []
    },
    {
      "cell_type": "code",
      "source": [],
      "metadata": {
        "id": "M0Rodxybhy0R"
      },
      "execution_count": null,
      "outputs": []
    },
    {
      "cell_type": "code",
      "source": [],
      "metadata": {
        "id": "HdAjtaW1hy34"
      },
      "execution_count": null,
      "outputs": []
    },
    {
      "cell_type": "code",
      "source": [],
      "metadata": {
        "id": "wo2bd7Hahy7Z"
      },
      "execution_count": null,
      "outputs": []
    },
    {
      "cell_type": "code",
      "source": [],
      "metadata": {
        "id": "Sg-1FDb-hy_E"
      },
      "execution_count": null,
      "outputs": []
    },
    {
      "cell_type": "code",
      "source": [],
      "metadata": {
        "id": "qVT6wiTvhzCp"
      },
      "execution_count": null,
      "outputs": []
    },
    {
      "cell_type": "code",
      "source": [],
      "metadata": {
        "id": "JgVz8n02hzGD"
      },
      "execution_count": null,
      "outputs": []
    },
    {
      "cell_type": "code",
      "source": [],
      "metadata": {
        "id": "ehAv03nwhzJl"
      },
      "execution_count": null,
      "outputs": []
    },
    {
      "cell_type": "code",
      "source": [],
      "metadata": {
        "id": "I24aWu-hhzM3"
      },
      "execution_count": null,
      "outputs": []
    },
    {
      "cell_type": "code",
      "source": [],
      "metadata": {
        "id": "cGuwmxpUhzRL"
      },
      "execution_count": null,
      "outputs": []
    },
    {
      "cell_type": "code",
      "source": [],
      "metadata": {
        "id": "vsSZAiTihzVy"
      },
      "execution_count": null,
      "outputs": []
    },
    {
      "cell_type": "code",
      "source": [],
      "metadata": {
        "id": "-SLNDe-zhzYE"
      },
      "execution_count": null,
      "outputs": []
    },
    {
      "cell_type": "code",
      "source": [],
      "metadata": {
        "id": "eFD0mni9hzbS"
      },
      "execution_count": null,
      "outputs": []
    },
    {
      "cell_type": "code",
      "source": [],
      "metadata": {
        "id": "HW5UolajhzeK"
      },
      "execution_count": null,
      "outputs": []
    },
    {
      "cell_type": "code",
      "source": [
        "# X_train, X_test, y_train, y_test = train_test_split(df_fp.drop(columns=['Expected', \"Id\", \"SMILES\"]), df_fp[\"Expected\"].values, test_size=0.3, stratify=df_fp['Expected'],random_state=5)\n",
        "\n",
        "# # RFmodel = RandomForestClassifier(n_estimators=500, random_state=1, max_depth=7, )\n",
        "# # RFmodel.fit(X_train, y_train)\n",
        "# # y_predRF = RFmodel.predict(X_test)\n",
        "\n",
        "# KNN = KNeighborsClassifier()\n",
        "# KNN.fit(X_train, y_train)\n",
        "# y_predRF = KNN.predict(X_test)\n",
        "\n",
        "# # from sklearn.linear_model import SGDClassifier\n",
        "# # lr = SGDClassifier(loss='perceptron', random_state=5)\n",
        "# # lr.fit(X_train, y_train)\n",
        "\n",
        "# # lr_params = {'alpha' : [10**(-x) for x in range(7)],\n",
        "# #              'penalty' : ['l1', 'l2', 'elasticnet'],\n",
        "# #              'l1_ratio' : [0.15, 0.25, 0.5, 0.75]}\n",
        "\n",
        "# # y_predRF = lr.predict(X_train)\n",
        "\n",
        "# # Print the accuracy score\n",
        "# print(accuracy_score(y_test, y_predRF))\n",
        "# print(f1_score(y_test, y_predRF, zero_division=0))"
      ],
      "metadata": {
        "id": "tupCAj_LURTD"
      },
      "execution_count": null,
      "outputs": []
    },
    {
      "cell_type": "code",
      "source": [
        "# # Id = X['x'].values\n",
        "\n",
        "# #Switch off the line below when using training data\n",
        "# X = df_fp.drop([\"Expected\", \"Id\", \"SMILES\"], axis=1)\n",
        "\n",
        "# #Switch off the line below when using testing data\n",
        "# # X = df_fp.drop([\"x\", \"SMILES\"], axis=1)\n",
        "\n",
        "# # Initialize the scaler\n",
        "# scaler = StandardScaler()\n",
        "\n",
        "# # Fit the scaler to the data\n",
        "# scaler.fit(X)\n",
        "\n",
        "# # Scale the data\n",
        "# X_scaled = scaler.transform(X)\n"
      ],
      "metadata": {
        "id": "tYXcgTjqURWC"
      },
      "execution_count": null,
      "outputs": []
    },
    {
      "cell_type": "code",
      "source": [
        "# X_train, X_test, y_train, y_test = train_test_split(X_scaled, df_fp[\"Expected\"].values, test_size=0.3, stratify=df_fp['Expected'],random_state=5)\n",
        "\n",
        "# # RFmodel = RandomForestClassifier(n_estimators=500, random_state=1, max_depth=7, )\n",
        "# # RFmodel.fit(X_train, y_train)\n",
        "# # y_predRF = RFmodel.predict(X_test)\n",
        "\n",
        "# hgbm = HistGradientBoostingClassifier(random_state=42)\n",
        "# hgbm.fit(X_train, y_train)\n",
        "# hgbm.score(X_test, y_test)\n",
        "\n",
        "\n",
        "# print(accuracy_score(y_test, y_predRF))\n",
        "# print(f1_score(y_test, y_predRF, zero_division=0))"
      ],
      "metadata": {
        "id": "quUt2jDrgA4G"
      },
      "execution_count": null,
      "outputs": []
    },
    {
      "cell_type": "code",
      "source": [
        "# y_predRF = hgbm.predict(X_test)\n",
        "# print(f1_score(y_test, y_predRF, zero_division=0))"
      ],
      "metadata": {
        "id": "HQj3357iURY1"
      },
      "execution_count": null,
      "outputs": []
    },
    {
      "cell_type": "code",
      "source": [],
      "metadata": {
        "id": "Bdctv49oURbe"
      },
      "execution_count": null,
      "outputs": []
    },
    {
      "cell_type": "code",
      "source": [],
      "metadata": {
        "id": "EFIs1WrXURd0"
      },
      "execution_count": null,
      "outputs": []
    },
    {
      "cell_type": "code",
      "source": [],
      "metadata": {
        "id": "_jRwiYK5URgZ"
      },
      "execution_count": null,
      "outputs": []
    },
    {
      "cell_type": "code",
      "source": [],
      "metadata": {
        "id": "rk_3_lDrURiy"
      },
      "execution_count": null,
      "outputs": []
    },
    {
      "cell_type": "code",
      "source": [],
      "metadata": {
        "id": "XgwZ_t_8URlS"
      },
      "execution_count": null,
      "outputs": []
    },
    {
      "cell_type": "code",
      "source": [],
      "metadata": {
        "id": "T2Ig9WXRURnu"
      },
      "execution_count": null,
      "outputs": []
    },
    {
      "cell_type": "code",
      "source": [],
      "metadata": {
        "id": "SXgfv8UQURqU"
      },
      "execution_count": null,
      "outputs": []
    },
    {
      "cell_type": "code",
      "source": [],
      "metadata": {
        "id": "yVud03COURs6"
      },
      "execution_count": null,
      "outputs": []
    },
    {
      "cell_type": "code",
      "source": [],
      "metadata": {
        "id": "gidrE-8tURvP"
      },
      "execution_count": null,
      "outputs": []
    },
    {
      "cell_type": "code",
      "source": [],
      "metadata": {
        "id": "XUeDaHpBURx2"
      },
      "execution_count": null,
      "outputs": []
    },
    {
      "cell_type": "code",
      "source": [],
      "metadata": {
        "id": "bCMLVuyvUR0U"
      },
      "execution_count": null,
      "outputs": []
    },
    {
      "cell_type": "code",
      "source": [],
      "metadata": {
        "id": "5EJSwq3ZUR5O"
      },
      "execution_count": null,
      "outputs": []
    },
    {
      "cell_type": "code",
      "source": [],
      "metadata": {
        "id": "74XggzibUR7w"
      },
      "execution_count": null,
      "outputs": []
    },
    {
      "cell_type": "code",
      "source": [],
      "metadata": {
        "id": "4_Lg6ElzUR-X"
      },
      "execution_count": null,
      "outputs": []
    },
    {
      "cell_type": "code",
      "source": [],
      "metadata": {
        "id": "nzZiLpmWUSBI"
      },
      "execution_count": null,
      "outputs": []
    },
    {
      "cell_type": "code",
      "source": [],
      "metadata": {
        "id": "mJy-EDzPUSF6"
      },
      "execution_count": null,
      "outputs": []
    },
    {
      "cell_type": "code",
      "source": [],
      "metadata": {
        "id": "hj9wYRUTUSIZ"
      },
      "execution_count": null,
      "outputs": []
    },
    {
      "cell_type": "code",
      "source": [],
      "metadata": {
        "id": "0oWd81VXUSK9"
      },
      "execution_count": null,
      "outputs": []
    },
    {
      "cell_type": "code",
      "source": [],
      "metadata": {
        "id": "ckMO26cXUSNQ"
      },
      "execution_count": null,
      "outputs": []
    },
    {
      "cell_type": "code",
      "source": [],
      "metadata": {
        "id": "MXsBKaRuUSQA"
      },
      "execution_count": null,
      "outputs": []
    },
    {
      "cell_type": "code",
      "source": [],
      "metadata": {
        "id": "STtCAxyRUSSd"
      },
      "execution_count": null,
      "outputs": []
    },
    {
      "cell_type": "code",
      "source": [],
      "metadata": {
        "id": "RZqu-Dv2USVN"
      },
      "execution_count": null,
      "outputs": []
    },
    {
      "cell_type": "code",
      "source": [],
      "metadata": {
        "id": "3KIPLzPPUSXo"
      },
      "execution_count": null,
      "outputs": []
    },
    {
      "cell_type": "code",
      "source": [],
      "metadata": {
        "id": "W_dMmJVqUSal"
      },
      "execution_count": null,
      "outputs": []
    },
    {
      "cell_type": "code",
      "source": [],
      "metadata": {
        "id": "7WBEi-gRUSc8"
      },
      "execution_count": null,
      "outputs": []
    }
  ]
}